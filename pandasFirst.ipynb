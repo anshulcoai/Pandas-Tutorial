{
 "cells": [
  {
   "cell_type": "code",
   "execution_count": 1,
   "id": "46a611c5-0ec3-4e8c-ab78-58769d6869b7",
   "metadata": {},
   "outputs": [],
   "source": [
    "import pandas as pd"
   ]
  },
  {
   "cell_type": "code",
   "execution_count": 2,
   "id": "2b7b60e9-271e-47d0-8148-599ffb38cd18",
   "metadata": {},
   "outputs": [],
   "source": [
    "import numpy as np"
   ]
  },
  {
   "cell_type": "code",
   "execution_count": 3,
   "id": "ca339106-77bd-42db-954e-e59085f0a6bf",
   "metadata": {},
   "outputs": [],
   "source": [
    "l=[85,96,75,48,52,35,62,53,69,41]"
   ]
  },
  {
   "cell_type": "code",
   "execution_count": 5,
   "id": "443a7e8f-f75d-4a06-b595-2db7bd4f1ff1",
   "metadata": {},
   "outputs": [],
   "source": [
    "s=pd.Series(l)"
   ]
  },
  {
   "cell_type": "code",
   "execution_count": 6,
   "id": "e589fc80-a689-4109-b955-a6283901f933",
   "metadata": {},
   "outputs": [
    {
     "data": {
      "text/plain": [
       "0    85\n",
       "1    96\n",
       "2    75\n",
       "3    48\n",
       "4    52\n",
       "5    35\n",
       "6    62\n",
       "7    53\n",
       "8    69\n",
       "9    41\n",
       "dtype: int64"
      ]
     },
     "execution_count": 6,
     "metadata": {},
     "output_type": "execute_result"
    }
   ],
   "source": [
    "s"
   ]
  },
  {
   "cell_type": "code",
   "execution_count": 7,
   "id": "993c0a58-5315-4fdd-a358-0d126f998783",
   "metadata": {},
   "outputs": [
    {
     "data": {
      "text/plain": [
       "RangeIndex(start=0, stop=10, step=1)"
      ]
     },
     "execution_count": 7,
     "metadata": {},
     "output_type": "execute_result"
    }
   ],
   "source": [
    "s.index"
   ]
  },
  {
   "cell_type": "code",
   "execution_count": 12,
   "id": "7ad2b79e-6b9a-40fe-9434-bca4e884dd10",
   "metadata": {},
   "outputs": [],
   "source": [
    "m=np.array(5)"
   ]
  },
  {
   "cell_type": "code",
   "execution_count": 13,
   "id": "b60515eb-f792-46cd-b8da-cd20c7017123",
   "metadata": {},
   "outputs": [
    {
     "data": {
      "text/plain": [
       "array(5)"
      ]
     },
     "execution_count": 13,
     "metadata": {},
     "output_type": "execute_result"
    }
   ],
   "source": [
    "m"
   ]
  },
  {
   "cell_type": "code",
   "execution_count": 14,
   "id": "f204d8a5-c7a4-4680-a8ff-2aadc28c8258",
   "metadata": {},
   "outputs": [],
   "source": [
    "d=pd.Series(m)"
   ]
  },
  {
   "cell_type": "code",
   "execution_count": 15,
   "id": "e3cd2d6d-d870-44fe-b0e3-1cd1385cea7b",
   "metadata": {},
   "outputs": [
    {
     "data": {
      "text/plain": [
       "0    5\n",
       "dtype: object"
      ]
     },
     "execution_count": 15,
     "metadata": {},
     "output_type": "execute_result"
    }
   ],
   "source": [
    "d"
   ]
  },
  {
   "cell_type": "code",
   "execution_count": 16,
   "id": "737c50d8-7eef-4ff8-8418-727d38e61435",
   "metadata": {},
   "outputs": [],
   "source": [
    "student={'Amit':52,'Sumit':96,'Lokesh':96,'Shikha':47}"
   ]
  },
  {
   "cell_type": "code",
   "execution_count": 17,
   "id": "e745ec45-c5d7-415c-a189-0b2bf6ecc969",
   "metadata": {},
   "outputs": [
    {
     "data": {
      "text/plain": [
       "{'Amit': 52, 'Sumit': 96, 'Lokesh': 96, 'Shikha': 47}"
      ]
     },
     "execution_count": 17,
     "metadata": {},
     "output_type": "execute_result"
    }
   ],
   "source": [
    "student"
   ]
  },
  {
   "cell_type": "code",
   "execution_count": 18,
   "id": "8564e459-9616-4d41-b76a-15636bf0538f",
   "metadata": {},
   "outputs": [],
   "source": [
    "stud=pd.Series(student)"
   ]
  },
  {
   "cell_type": "code",
   "execution_count": 19,
   "id": "193a9470-247b-4e68-b3cd-7a8fc8b596d2",
   "metadata": {},
   "outputs": [
    {
     "data": {
      "text/plain": [
       "Amit      52\n",
       "Sumit     96\n",
       "Lokesh    96\n",
       "Shikha    47\n",
       "dtype: int64"
      ]
     },
     "execution_count": 19,
     "metadata": {},
     "output_type": "execute_result"
    }
   ],
   "source": [
    "stud"
   ]
  },
  {
   "cell_type": "code",
   "execution_count": 20,
   "id": "92aa582e-91f8-4ab7-8feb-390925ea41df",
   "metadata": {},
   "outputs": [
    {
     "data": {
      "text/plain": [
       "Index(['Amit', 'Sumit', 'Lokesh', 'Shikha'], dtype='object')"
      ]
     },
     "execution_count": 20,
     "metadata": {},
     "output_type": "execute_result"
    }
   ],
   "source": [
    "stud.index"
   ]
  },
  {
   "cell_type": "code",
   "execution_count": 21,
   "id": "37c7f308-4e66-420f-95c9-2ca094a4fcb8",
   "metadata": {},
   "outputs": [
    {
     "data": {
      "text/plain": [
       "array([52, 96, 96, 47])"
      ]
     },
     "execution_count": 21,
     "metadata": {},
     "output_type": "execute_result"
    }
   ],
   "source": [
    "stud.values"
   ]
  },
  {
   "cell_type": "code",
   "execution_count": 22,
   "id": "4bb52340-3be6-4456-9370-9fe295645c7e",
   "metadata": {},
   "outputs": [
    {
     "data": {
      "text/plain": [
       "pandas.core.indexes.base.Index"
      ]
     },
     "execution_count": 22,
     "metadata": {},
     "output_type": "execute_result"
    }
   ],
   "source": [
    "type(stud.index)"
   ]
  },
  {
   "cell_type": "code",
   "execution_count": 23,
   "id": "48639ca7-5edd-476d-802a-364351fca4f6",
   "metadata": {},
   "outputs": [
    {
     "data": {
      "text/plain": [
       "numpy.ndarray"
      ]
     },
     "execution_count": 23,
     "metadata": {},
     "output_type": "execute_result"
    }
   ],
   "source": [
    "type(stud.values)"
   ]
  },
  {
   "cell_type": "code",
   "execution_count": 25,
   "id": "1a7b3564-87d7-42ab-ae95-b117a03038dd",
   "metadata": {},
   "outputs": [
    {
     "data": {
      "text/plain": [
       "np.int64(96)"
      ]
     },
     "execution_count": 25,
     "metadata": {},
     "output_type": "execute_result"
    }
   ],
   "source": [
    "stud.max()"
   ]
  },
  {
   "cell_type": "code",
   "execution_count": 26,
   "id": "127b4d57-80e8-46f5-9806-8583d734a51f",
   "metadata": {},
   "outputs": [
    {
     "data": {
      "text/plain": [
       "np.int64(47)"
      ]
     },
     "execution_count": 26,
     "metadata": {},
     "output_type": "execute_result"
    }
   ],
   "source": [
    "stud.min()"
   ]
  },
  {
   "cell_type": "code",
   "execution_count": 27,
   "id": "645b3d69-aa38-4e8f-864c-043ca1c9ce1f",
   "metadata": {},
   "outputs": [
    {
     "data": {
      "text/plain": [
       "np.float64(72.75)"
      ]
     },
     "execution_count": 27,
     "metadata": {},
     "output_type": "execute_result"
    }
   ],
   "source": [
    "stud.mean()"
   ]
  },
  {
   "cell_type": "code",
   "execution_count": 28,
   "id": "1c5b53be-cdc7-44d7-ae55-8c3ae1386172",
   "metadata": {},
   "outputs": [
    {
     "data": {
      "text/plain": [
       "np.int64(291)"
      ]
     },
     "execution_count": 28,
     "metadata": {},
     "output_type": "execute_result"
    }
   ],
   "source": [
    "stud.sum()"
   ]
  },
  {
   "cell_type": "code",
   "execution_count": 29,
   "id": "aedc0f6f-45f0-4821-97ef-bd34b8bf6170",
   "metadata": {},
   "outputs": [
    {
     "data": {
      "text/plain": [
       "np.int64(22523904)"
      ]
     },
     "execution_count": 29,
     "metadata": {},
     "output_type": "execute_result"
    }
   ],
   "source": [
    "stud.product()"
   ]
  },
  {
   "cell_type": "code",
   "execution_count": 30,
   "id": "53318682-a4ac-440a-8fc6-5ca7465453b2",
   "metadata": {},
   "outputs": [
    {
     "data": {
      "text/plain": [
       "4"
      ]
     },
     "execution_count": 30,
     "metadata": {},
     "output_type": "execute_result"
    }
   ],
   "source": [
    "stud.size"
   ]
  },
  {
   "cell_type": "code",
   "execution_count": 31,
   "id": "add6f056-eefd-416b-a28e-723e9632cf9c",
   "metadata": {},
   "outputs": [
    {
     "data": {
      "text/plain": [
       "array([52, 96, 96, 47])"
      ]
     },
     "execution_count": 31,
     "metadata": {},
     "output_type": "execute_result"
    }
   ],
   "source": [
    "stud.values"
   ]
  },
  {
   "cell_type": "code",
   "execution_count": 32,
   "id": "3a200748-dd49-4c62-b38d-8d7ad8b30695",
   "metadata": {},
   "outputs": [
    {
     "data": {
      "text/plain": [
       "Index(['Amit', 'Sumit', 'Lokesh', 'Shikha'], dtype='object')"
      ]
     },
     "execution_count": 32,
     "metadata": {},
     "output_type": "execute_result"
    }
   ],
   "source": [
    "stud.index"
   ]
  },
  {
   "cell_type": "code",
   "execution_count": 33,
   "id": "e039a003-35f9-4a04-98c6-bf101dd19d24",
   "metadata": {},
   "outputs": [
    {
     "data": {
      "text/plain": [
       "dtype('int64')"
      ]
     },
     "execution_count": 33,
     "metadata": {},
     "output_type": "execute_result"
    }
   ],
   "source": [
    "stud.dtype"
   ]
  },
  {
   "cell_type": "code",
   "execution_count": 34,
   "id": "d03a86e0-3357-4ada-b948-c2e6e0018891",
   "metadata": {},
   "outputs": [],
   "source": [
    "pokemon=pd.read_csv(r'C:\\Users\\pc\\Downloads\\pokemon123.csv',index_col=['name']).squeeze()"
   ]
  },
  {
   "cell_type": "code",
   "execution_count": 37,
   "id": "9434879a-916c-4cb3-888d-f73c9d4fbd90",
   "metadata": {},
   "outputs": [
    {
     "data": {
      "text/plain": [
       "name\n",
       "Bulbasaur       grass\n",
       "Ivysaur         grass\n",
       "Venusaur        grass\n",
       "Charmander       fire\n",
       "Charmeleon       fire\n",
       "               ...   \n",
       "Celesteela      steel\n",
       "Kartana         grass\n",
       "Guzzlord         dark\n",
       "Necrozma      psychic\n",
       "Magearna        steel\n",
       "Name: type, Length: 801, dtype: object"
      ]
     },
     "execution_count": 37,
     "metadata": {},
     "output_type": "execute_result"
    }
   ],
   "source": [
    "pokemon"
   ]
  },
  {
   "cell_type": "code",
   "execution_count": 39,
   "id": "c6b8d1cf-799a-4f51-b0fc-85e6ed8d3252",
   "metadata": {},
   "outputs": [
    {
     "data": {
      "text/plain": [
       "pandas.core.series.Series"
      ]
     },
     "execution_count": 39,
     "metadata": {},
     "output_type": "execute_result"
    }
   ],
   "source": [
    "type(pokemon)"
   ]
  },
  {
   "cell_type": "code",
   "execution_count": 40,
   "id": "beb6fd2c-f20e-4b2a-8103-d1a84a10e329",
   "metadata": {},
   "outputs": [
    {
     "data": {
      "text/plain": [
       "'water'"
      ]
     },
     "execution_count": 40,
     "metadata": {},
     "output_type": "execute_result"
    }
   ],
   "source": [
    "pokemon.max()"
   ]
  },
  {
   "cell_type": "code",
   "execution_count": 41,
   "id": "b7e9a219-6393-4af2-95db-eebd61384e60",
   "metadata": {},
   "outputs": [
    {
     "data": {
      "text/plain": [
       "'bug'"
      ]
     },
     "execution_count": 41,
     "metadata": {},
     "output_type": "execute_result"
    }
   ],
   "source": [
    "pokemon.min()"
   ]
  },
  {
   "cell_type": "code",
   "execution_count": 42,
   "id": "942e2082-335c-406d-ba44-c9a718920a4c",
   "metadata": {},
   "outputs": [
    {
     "data": {
      "text/plain": [
       "'Zygarde'"
      ]
     },
     "execution_count": 42,
     "metadata": {},
     "output_type": "execute_result"
    }
   ],
   "source": [
    "pokemon.index.max()"
   ]
  },
  {
   "cell_type": "code",
   "execution_count": 43,
   "id": "6c1c514a-32cc-4657-a74b-3e2e04ad4195",
   "metadata": {},
   "outputs": [
    {
     "data": {
      "text/plain": [
       "'Abomasnow'"
      ]
     },
     "execution_count": 43,
     "metadata": {},
     "output_type": "execute_result"
    }
   ],
   "source": [
    "pokemon.index.min()"
   ]
  },
  {
   "cell_type": "code",
   "execution_count": 44,
   "id": "5ad655c0-7490-4c69-9fa8-95adb129fee3",
   "metadata": {},
   "outputs": [
    {
     "data": {
      "text/plain": [
       "'grassgrassgrassfirefirefirewaterwaterwaterbugbugbugbugbugbugnormalnormalnormalnormalnormalnormalnormalpoisonpoisonelectricelectricgroundgroundpoisonpoisonpoisonpoisonpoisonpoisonfairyfairyfirefirenormalnormalpoisonpoisongrassgrassgrassbugbugbugbuggroundgroundnormalnormalwaterwaterfightingfightingfirefirewaterwaterwaterpsychicpsychicpsychicfightingfightingfightinggrassgrassgrasswaterwaterrockrockrockfirefirewaterwaterelectricelectricnormalnormalnormalwaterwaterpoisonpoisonwaterwaterghostghostghostrockpsychicpsychicwaterwaterelectricelectricgrassgrassgroundgroundfightingfightingnormalpoisonpoisongroundgroundnormalgrassnormalwaterwaterwaterwaterwaterwaterpsychicbugiceelectricfirebugnormalwaterwaterwaternormalnormalwaterelectricfirenormalrockrockrockrockrocknormaliceelectricfiredragondragondragonpsychicpsychicgrassgrassgrassfirefirefirewaterwaterwaternormalnormalnormalnormalbugbugbugbugpoisonwaterwaterelectricfairynormalfairyfairypsychicpsychicelectricelectricelectricgrasswaterwaterrockwatergrassgrassgrassnormalgrassgrassbugwaterwaterpsychicdarkdarkwaterghostpsychicpsychicnormalbugbugnormalgroundsteelfairyfairywaterbugbugbugdarknormalnormalfirefireiceicewaterwaterwatericewatersteeldarkdarkwatergroundgroundnormalnormalnormalfightingfightingiceelectricfirenormalnormalelectricfirewaterrockrockrockpsychicfirepsychicgrassgrassgrassfirefirefirewaterwaterwaterdarkdarknormalnormalbugbugbugbugbugwaterwaterwatergrassgrassgrassnormalnormalwaterwaterpsychicpsychicpsychicbugbuggrassgrassnormalnormalnormalbugbugbugnormalnormalnormalfightingfightingnormalrocknormalnormaldarksteelsteelsteelsteelfightingfightingelectricelectricelectricelectricbugbuggrasspoisonpoisonwaterwaterwaterwaterfirefirefirepsychicpsychicnormalgroundgroundgroundgrassgrassnormaldragonnormalpoisonrockrockwaterwaterwaterwatergroundgroundrockrockrockrockwaterwaternormalnormalghostghostghostghostgrasspsychicdarkpsychiciceiceiceiceicewaterwaterwaterwaterwaterdragondragondragonsteelsteelsteelrockicesteeldragondragonwatergrounddragonsteelpsychicgrassgrassgrassfirefirefirewaterwaterwaternormalnormalnormalnormalnormalbugbugelectricelectricelectricgrassgrassrockrockrockrockbugbugbugbugbugelectricwaterwatergrassgrasswaterwaternormalghostghostnormalnormalghostdarknormalnormalpsychicpoisonpoisonsteelsteelrockpsychicnormalnormalghostdragondragondragonnormalfightingfightinggroundgroundpoisonpoisonpoisonpoisongrasswaterwaterwatergrassgrassdarkelectricnormalgroundgrasselectricfirefairybuggrassicegroundicenormalpsychicrockghosticeelectricpsychicpsychicpsychicsteelwaterfirenormalghostpsychicwaterwaterdarkgrassnormalpsychicgrassgrassgrassfirefirefirewaterwaterwaternormalnormalnormalnormalnormaldarkdarkgrassgrassfirefirewaterwaterpsychicpsychicnormalnormalnormalelectricelectricrockrockrockpsychicpsychicgroundgroundnormalfightingfightingfightingwaterwaterwaterfightingfightingbugbugbugbugbugbuggrassgrassgrassgrasswatergroundgroundgroundfirefiregrassbugbugdarkdarkpsychicghostghostwaterwaterrockrockpoisonpoisondarkdarknormalnormalpsychicpsychicpsychicpsychicpsychicpsychicwaterwatericeiceicenormalnormalelectricbugbuggrassgrasswaterwaterwaterbugbuggrassgrasssteelsteelsteelelectricelectricelectricpsychicpsychicghostghostghostdragondragondragoniceiceicebugbuggroundfightingfightingdragongroundgrounddarkdarknormalnormalnormaldarkdarkfirebugdarkdarkdarkbugbugsteelrockgrassflyingelectricdragondragongrounddragonwaternormalbuggrassgrassgrassfirefirefirewaterwaterwaternormalnormalnormalfirefirebugbugbugfirefirefairyfairyfairygrassgrassfightingfightingnormalpsychicpsychicsteelsteelsteelfairyfairyfairyfairydarkdarkrockrockpoisonpoisonwaterwaterelectricelectricrockrockrockrockfairyfightingelectricrockdragondragondragonsteelghostghostghostghosticeiceflyingflyingfairydarkdragonrockpsychicfiregrassgrassgrassfirefirefirewaterwaterwaternormalnormalnormalnormalnormalbugbugbugfightingfightingfirebugbugrockrockwaterpoisonpoisongroundgroundwaterwatergrassgrassgrassgrasspoisonpoisonnormalnormalgrassgrassgrassfairynormalfightingbugbugghostghostwaternormalnormalrocknormalfireelectricghostwaternormalghostdragondragondragonelectricpsychicgrasswaterpsychicpsychicpsychicpsychicrockbugbugelectricsteelgrassdarkpsychicsteel'"
      ]
     },
     "execution_count": 44,
     "metadata": {},
     "output_type": "execute_result"
    }
   ],
   "source": [
    "pokemon.sum()"
   ]
  },
  {
   "cell_type": "code",
   "execution_count": 46,
   "id": "8fe359fd-9193-4c19-bcab-9ab8336cde23",
   "metadata": {},
   "outputs": [
    {
     "data": {
      "text/plain": [
       "name\n",
       "Bulbasaur       grass\n",
       "Ivysaur         grass\n",
       "Venusaur        grass\n",
       "Charmander       fire\n",
       "Charmeleon       fire\n",
       "               ...   \n",
       "Celesteela      steel\n",
       "Kartana         grass\n",
       "Guzzlord         dark\n",
       "Necrozma      psychic\n",
       "Magearna        steel\n",
       "Name: type, Length: 801, dtype: object"
      ]
     },
     "execution_count": 46,
     "metadata": {},
     "output_type": "execute_result"
    }
   ],
   "source": [
    "pokemon"
   ]
  },
  {
   "cell_type": "code",
   "execution_count": 47,
   "id": "55e08d35-e084-4c34-b669-b502a7517eaa",
   "metadata": {},
   "outputs": [
    {
     "data": {
      "text/plain": [
       "name\n",
       "Bulbasaur     grass\n",
       "Ivysaur       grass\n",
       "Venusaur      grass\n",
       "Charmander     fire\n",
       "Charmeleon     fire\n",
       "Name: type, dtype: object"
      ]
     },
     "execution_count": 47,
     "metadata": {},
     "output_type": "execute_result"
    }
   ],
   "source": [
    "pokemon.head()"
   ]
  },
  {
   "cell_type": "code",
   "execution_count": 56,
   "id": "8b82df81-d697-4bc4-9ac8-edcee3e32a0c",
   "metadata": {},
   "outputs": [
    {
     "data": {
      "text/plain": [
       "name\n",
       "Bulbasaur     grass\n",
       "Ivysaur       grass\n",
       "Venusaur      grass\n",
       "Charmander     fire\n",
       "Charmeleon     fire\n",
       "Charizard      fire\n",
       "Squirtle      water\n",
       "Wartortle     water\n",
       "Blastoise     water\n",
       "Caterpie        bug\n",
       "Metapod         bug\n",
       "Butterfree      bug\n",
       "Weedle          bug\n",
       "Kakuna          bug\n",
       "Beedrill        bug\n",
       "Name: type, dtype: object"
      ]
     },
     "execution_count": 56,
     "metadata": {},
     "output_type": "execute_result"
    }
   ],
   "source": [
    "pokemon.head(15)"
   ]
  },
  {
   "cell_type": "code",
   "execution_count": 57,
   "id": "ae0e6165-ff1d-47d7-a354-1c3275819eb0",
   "metadata": {},
   "outputs": [
    {
     "data": {
      "text/plain": [
       "name\n",
       "Tapu Bulu        grass\n",
       "Tapu Fini        water\n",
       "Cosmog         psychic\n",
       "Cosmoem        psychic\n",
       "Solgaleo       psychic\n",
       "Lunala         psychic\n",
       "Nihilego          rock\n",
       "Buzzwole           bug\n",
       "Pheromosa          bug\n",
       "Xurkitree     electric\n",
       "Celesteela       steel\n",
       "Kartana          grass\n",
       "Guzzlord          dark\n",
       "Necrozma       psychic\n",
       "Magearna         steel\n",
       "Name: type, dtype: object"
      ]
     },
     "execution_count": 57,
     "metadata": {},
     "output_type": "execute_result"
    }
   ],
   "source": [
    "pokemon.tail(15)"
   ]
  },
  {
   "cell_type": "code",
   "execution_count": 58,
   "id": "7b04c3a1-932f-45ef-ac9b-fc544c0e163a",
   "metadata": {},
   "outputs": [
    {
     "name": "stderr",
     "output_type": "stream",
     "text": [
      "C:\\Users\\pc\\AppData\\Local\\Temp\\ipykernel_7776\\3546300270.py:1: FutureWarning: Series.__getitem__ treating keys as positions is deprecated. In a future version, integer keys will always be treated as labels (consistent with DataFrame behavior). To access a value by position, use `ser.iloc[pos]`\n",
      "  pokemon[0]\n"
     ]
    },
    {
     "data": {
      "text/plain": [
       "'grass'"
      ]
     },
     "execution_count": 58,
     "metadata": {},
     "output_type": "execute_result"
    }
   ],
   "source": [
    "pokemon[0]"
   ]
  },
  {
   "cell_type": "code",
   "execution_count": 59,
   "id": "a7e5f06a-6297-4002-a4f8-1ff2f29ca6a7",
   "metadata": {},
   "outputs": [
    {
     "data": {
      "text/plain": [
       "'grass'"
      ]
     },
     "execution_count": 59,
     "metadata": {},
     "output_type": "execute_result"
    }
   ],
   "source": [
    "pokemon['Bulbasaur']"
   ]
  },
  {
   "cell_type": "code",
   "execution_count": 60,
   "id": "52169aee-37c5-4e4f-b52b-77c478339472",
   "metadata": {},
   "outputs": [
    {
     "data": {
      "text/plain": [
       "name\n",
       "Bulbasaur       grass\n",
       "Ivysaur         grass\n",
       "Venusaur        grass\n",
       "Charmander       fire\n",
       "Charmeleon       fire\n",
       "               ...   \n",
       "Celesteela      steel\n",
       "Kartana         grass\n",
       "Guzzlord         dark\n",
       "Necrozma      psychic\n",
       "Magearna        steel\n",
       "Name: type, Length: 801, dtype: object"
      ]
     },
     "execution_count": 60,
     "metadata": {},
     "output_type": "execute_result"
    }
   ],
   "source": [
    "pokemon"
   ]
  },
  {
   "cell_type": "code",
   "execution_count": 61,
   "id": "534c7b65-5725-4a55-8a57-e7afa483c9e5",
   "metadata": {},
   "outputs": [
    {
     "data": {
      "text/plain": [
       "name\n",
       "Bulbasaur     grass\n",
       "Ivysaur       grass\n",
       "Venusaur      grass\n",
       "Charmander     fire\n",
       "Charmeleon     fire\n",
       "Charizard      fire\n",
       "Squirtle      water\n",
       "Wartortle     water\n",
       "Blastoise     water\n",
       "Caterpie        bug\n",
       "Metapod         bug\n",
       "Butterfree      bug\n",
       "Weedle          bug\n",
       "Kakuna          bug\n",
       "Beedrill        bug\n",
       "Name: type, dtype: object"
      ]
     },
     "execution_count": 61,
     "metadata": {},
     "output_type": "execute_result"
    }
   ],
   "source": [
    "pokemon.head(15)"
   ]
  },
  {
   "cell_type": "code",
   "execution_count": 62,
   "id": "eb7fb162-1742-43fc-99fa-bba94d634ed5",
   "metadata": {},
   "outputs": [
    {
     "data": {
      "text/plain": [
       "name\n",
       "Bulbasaur     grass\n",
       "Ivysaur       grass\n",
       "Venusaur      grass\n",
       "Charmander     fire\n",
       "Charmeleon     fire\n",
       "Name: type, dtype: object"
      ]
     },
     "execution_count": 62,
     "metadata": {},
     "output_type": "execute_result"
    }
   ],
   "source": [
    "pokemon[0:5]"
   ]
  },
  {
   "cell_type": "code",
   "execution_count": 65,
   "id": "720247a1-0f24-4b71-86dc-75f23ac3f151",
   "metadata": {},
   "outputs": [
    {
     "data": {
      "text/plain": [
       "name\n",
       "Bulbasaur     grass\n",
       "Ivysaur       grass\n",
       "Venusaur      grass\n",
       "Charmander     fire\n",
       "Charmeleon     fire\n",
       "Charizard      fire\n",
       "Squirtle      water\n",
       "Wartortle     water\n",
       "Name: type, dtype: object"
      ]
     },
     "execution_count": 65,
     "metadata": {},
     "output_type": "execute_result"
    }
   ],
   "source": [
    "pokemon['Bulbasaur':'Wartortle']"
   ]
  },
  {
   "cell_type": "code",
   "execution_count": null,
   "id": "3314ad1d-37cd-4a75-8f38-d3fe1931c762",
   "metadata": {},
   "outputs": [],
   "source": []
  }
 ],
 "metadata": {
  "kernelspec": {
   "display_name": "Python 3 (ipykernel)",
   "language": "python",
   "name": "python3"
  },
  "language_info": {
   "codemirror_mode": {
    "name": "ipython",
    "version": 3
   },
   "file_extension": ".py",
   "mimetype": "text/x-python",
   "name": "python",
   "nbconvert_exporter": "python",
   "pygments_lexer": "ipython3",
   "version": "3.13.0"
  }
 },
 "nbformat": 4,
 "nbformat_minor": 5
}
