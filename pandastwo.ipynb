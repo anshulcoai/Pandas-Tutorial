{
 "cells": [
  {
   "cell_type": "code",
   "execution_count": 1,
   "id": "647e0b34-7ee7-43df-b809-1e437b664e00",
   "metadata": {},
   "outputs": [],
   "source": [
    "import pandas as pd"
   ]
  },
  {
   "cell_type": "code",
   "execution_count": 2,
   "id": "ee49b3b7-be72-4b84-a071-9162e96f5b95",
   "metadata": {},
   "outputs": [],
   "source": [
    "import numpy as np"
   ]
  },
  {
   "cell_type": "code",
   "execution_count": 3,
   "id": "2e31d075-198c-445d-9565-c50123b11e22",
   "metadata": {},
   "outputs": [],
   "source": [
    "pokemon=pd.read_csv(r'C:\\Users\\pc\\Downloads\\pokemon123.csv',index_col='name').squeeze()"
   ]
  },
  {
   "cell_type": "code",
   "execution_count": 4,
   "id": "33d8a2ab-9a35-4310-a04f-160bdde6342f",
   "metadata": {},
   "outputs": [
    {
     "data": {
      "text/plain": [
       "name\n",
       "Bulbasaur       grass\n",
       "Ivysaur         grass\n",
       "Venusaur        grass\n",
       "Charmander       fire\n",
       "Charmeleon       fire\n",
       "               ...   \n",
       "Celesteela      steel\n",
       "Kartana         grass\n",
       "Guzzlord         dark\n",
       "Necrozma      psychic\n",
       "Magearna        steel\n",
       "Name: type, Length: 801, dtype: object"
      ]
     },
     "execution_count": 4,
     "metadata": {},
     "output_type": "execute_result"
    }
   ],
   "source": [
    "pokemon"
   ]
  },
  {
   "cell_type": "code",
   "execution_count": 5,
   "id": "c18a874f-864d-4064-b429-aa5754f491ff",
   "metadata": {},
   "outputs": [
    {
     "data": {
      "text/plain": [
       "name\n",
       "Kricketot       bug\n",
       "Masquerain      bug\n",
       "Grubbin         bug\n",
       "Charjabug       bug\n",
       "Vikavolt        bug\n",
       "              ...  \n",
       "Prinplup      water\n",
       "Empoleon      water\n",
       "Feraligatr    water\n",
       "Poliwag       water\n",
       "Kyogre        water\n",
       "Name: type, Length: 801, dtype: object"
      ]
     },
     "execution_count": 5,
     "metadata": {},
     "output_type": "execute_result"
    }
   ],
   "source": [
    "pokemon.sort_values()"
   ]
  },
  {
   "cell_type": "code",
   "execution_count": 6,
   "id": "d1e4b538-5f51-4762-bc8a-20885ae2c5a7",
   "metadata": {},
   "outputs": [
    {
     "data": {
      "text/plain": [
       "name\n",
       "Bulbasaur       grass\n",
       "Ivysaur         grass\n",
       "Venusaur        grass\n",
       "Charmander       fire\n",
       "Charmeleon       fire\n",
       "               ...   \n",
       "Celesteela      steel\n",
       "Kartana         grass\n",
       "Guzzlord         dark\n",
       "Necrozma      psychic\n",
       "Magearna        steel\n",
       "Name: type, Length: 801, dtype: object"
      ]
     },
     "execution_count": 6,
     "metadata": {},
     "output_type": "execute_result"
    }
   ],
   "source": [
    "pokemon"
   ]
  },
  {
   "cell_type": "code",
   "execution_count": 7,
   "id": "7fa75dd9-867e-4d5f-83c3-c5586271a2d3",
   "metadata": {},
   "outputs": [],
   "source": [
    "pokemon=pokemon.sort_values()"
   ]
  },
  {
   "cell_type": "code",
   "execution_count": 8,
   "id": "fb9c8dc4-f13e-4916-9dd1-18023e2bc3c5",
   "metadata": {},
   "outputs": [
    {
     "data": {
      "text/plain": [
       "name\n",
       "Kricketot       bug\n",
       "Masquerain      bug\n",
       "Grubbin         bug\n",
       "Charjabug       bug\n",
       "Vikavolt        bug\n",
       "              ...  \n",
       "Prinplup      water\n",
       "Empoleon      water\n",
       "Feraligatr    water\n",
       "Poliwag       water\n",
       "Kyogre        water\n",
       "Name: type, Length: 801, dtype: object"
      ]
     },
     "execution_count": 8,
     "metadata": {},
     "output_type": "execute_result"
    }
   ],
   "source": [
    "pokemon"
   ]
  },
  {
   "cell_type": "code",
   "execution_count": 9,
   "id": "785f77bb-74a4-452a-94d9-b5f770a74206",
   "metadata": {},
   "outputs": [
    {
     "data": {
      "text/plain": [
       "name\n",
       "Abomasnow      grass\n",
       "Abra         psychic\n",
       "Absol           dark\n",
       "Accelgor         bug\n",
       "Aegislash      steel\n",
       "              ...   \n",
       "Zoroark         dark\n",
       "Zorua           dark\n",
       "Zubat         poison\n",
       "Zweilous        dark\n",
       "Zygarde       dragon\n",
       "Name: type, Length: 801, dtype: object"
      ]
     },
     "execution_count": 9,
     "metadata": {},
     "output_type": "execute_result"
    }
   ],
   "source": [
    "pokemon.sort_index()"
   ]
  },
  {
   "cell_type": "code",
   "execution_count": 10,
   "id": "3194efff-4d52-4979-964c-310bc9e1daf3",
   "metadata": {},
   "outputs": [
    {
     "data": {
      "text/plain": [
       "name\n",
       "Abomasnow        grass\n",
       "Abra           psychic\n",
       "Absol             dark\n",
       "Accelgor           bug\n",
       "Aegislash        steel\n",
       "Aerodactyl        rock\n",
       "Aggron           steel\n",
       "Aipom           normal\n",
       "Alakazam       psychic\n",
       "Alomomola        water\n",
       "Altaria         dragon\n",
       "Amaura            rock\n",
       "Ambipom         normal\n",
       "Amoonguss        grass\n",
       "Ampharos      electric\n",
       "Anorith           rock\n",
       "Araquanid        water\n",
       "Arbok           poison\n",
       "Arcanine          fire\n",
       "Arceus          normal\n",
       "Archen            rock\n",
       "Archeops          rock\n",
       "Ariados            bug\n",
       "Armaldo           rock\n",
       "Aromatisse       fairy\n",
       "Aron             steel\n",
       "Articuno           ice\n",
       "Audino          normal\n",
       "Aurorus           rock\n",
       "Avalugg            ice\n",
       "Axew            dragon\n",
       "Azelf          psychic\n",
       "Azumarill        water\n",
       "Azurill         normal\n",
       "Bagon           dragon\n",
       "Baltoy          ground\n",
       "Banette          ghost\n",
       "Barbaracle        rock\n",
       "Barboach         water\n",
       "Basculin         water\n",
       "Bastiodon         rock\n",
       "Bayleef          grass\n",
       "Beartic            ice\n",
       "Beautifly          bug\n",
       "Beedrill           bug\n",
       "Beheeyem       psychic\n",
       "Beldum           steel\n",
       "Bellossom        grass\n",
       "Bellsprout       grass\n",
       "Bergmite           ice\n",
       "Name: type, dtype: object"
      ]
     },
     "execution_count": 10,
     "metadata": {},
     "output_type": "execute_result"
    }
   ],
   "source": [
    "pokemon.sort_index().head(50)"
   ]
  },
  {
   "cell_type": "code",
   "execution_count": 11,
   "id": "ddbae19b-baff-491a-8ba4-ae07048ed46b",
   "metadata": {},
   "outputs": [
    {
     "data": {
      "text/plain": [
       "False"
      ]
     },
     "execution_count": 11,
     "metadata": {},
     "output_type": "execute_result"
    }
   ],
   "source": [
    "'psychic' in pokemon"
   ]
  },
  {
   "cell_type": "code",
   "execution_count": 12,
   "id": "0b016d20-a60a-4774-b9e5-46f5b46e9775",
   "metadata": {},
   "outputs": [
    {
     "data": {
      "text/plain": [
       "True"
      ]
     },
     "execution_count": 12,
     "metadata": {},
     "output_type": "execute_result"
    }
   ],
   "source": [
    "'Beheeyem' in pokemon"
   ]
  },
  {
   "cell_type": "code",
   "execution_count": 13,
   "id": "f90aa230-6ea3-47ad-9b5d-1cd733bf4bbe",
   "metadata": {},
   "outputs": [
    {
     "data": {
      "text/plain": [
       "name\n",
       "Kricketot       bug\n",
       "Masquerain      bug\n",
       "Grubbin         bug\n",
       "Charjabug       bug\n",
       "Vikavolt        bug\n",
       "              ...  \n",
       "Prinplup      water\n",
       "Empoleon      water\n",
       "Feraligatr    water\n",
       "Poliwag       water\n",
       "Kyogre        water\n",
       "Name: type, Length: 801, dtype: object"
      ]
     },
     "execution_count": 13,
     "metadata": {},
     "output_type": "execute_result"
    }
   ],
   "source": [
    "pokemon"
   ]
  },
  {
   "cell_type": "code",
   "execution_count": 14,
   "id": "4ff08a7f-256b-4a78-bf07-d032a418b2df",
   "metadata": {},
   "outputs": [
    {
     "data": {
      "text/plain": [
       "True"
      ]
     },
     "execution_count": 14,
     "metadata": {},
     "output_type": "execute_result"
    }
   ],
   "source": [
    "'Kyogre' in pokemon"
   ]
  },
  {
   "cell_type": "code",
   "execution_count": 15,
   "id": "65828565-0142-4703-938f-e0b0e7371883",
   "metadata": {},
   "outputs": [
    {
     "data": {
      "text/plain": [
       "True"
      ]
     },
     "execution_count": 15,
     "metadata": {},
     "output_type": "execute_result"
    }
   ],
   "source": [
    "'water' not in pokemon"
   ]
  },
  {
   "cell_type": "code",
   "execution_count": 16,
   "id": "09677368-96ed-47c8-9227-a8e44a607704",
   "metadata": {},
   "outputs": [
    {
     "data": {
      "text/plain": [
       "name\n",
       "Kricketot       bug\n",
       "Masquerain      bug\n",
       "Grubbin         bug\n",
       "Charjabug       bug\n",
       "Vikavolt        bug\n",
       "              ...  \n",
       "Prinplup      water\n",
       "Empoleon      water\n",
       "Feraligatr    water\n",
       "Poliwag       water\n",
       "Kyogre        water\n",
       "Name: type, Length: 801, dtype: object"
      ]
     },
     "execution_count": 16,
     "metadata": {},
     "output_type": "execute_result"
    }
   ],
   "source": [
    "pokemon"
   ]
  },
  {
   "cell_type": "code",
   "execution_count": 17,
   "id": "f19a5ec3-a357-4712-8255-78354ebe3dfc",
   "metadata": {},
   "outputs": [
    {
     "data": {
      "text/plain": [
       "Series([], Name: type, dtype: object)"
      ]
     },
     "execution_count": 17,
     "metadata": {},
     "output_type": "execute_result"
    }
   ],
   "source": [
    "pokemon['Bulbasaur':'Charmeleon']"
   ]
  },
  {
   "cell_type": "code",
   "execution_count": 18,
   "id": "d0d63c5c-3506-4510-abce-ac965e1e2719",
   "metadata": {},
   "outputs": [
    {
     "data": {
      "text/plain": [
       "'fire'"
      ]
     },
     "execution_count": 18,
     "metadata": {},
     "output_type": "execute_result"
    }
   ],
   "source": [
    "pokemon['Charmeleon']"
   ]
  },
  {
   "cell_type": "code",
   "execution_count": 19,
   "id": "92bf4bd7-40e6-440b-bc64-27becb06f6cb",
   "metadata": {},
   "outputs": [],
   "source": [
    "pokemon.get('Charmeln')"
   ]
  },
  {
   "cell_type": "code",
   "execution_count": 20,
   "id": "7d8e473d-4b63-41bf-803f-589ce14bd8ae",
   "metadata": {},
   "outputs": [
    {
     "data": {
      "text/plain": [
       "'fire'"
      ]
     },
     "execution_count": 20,
     "metadata": {},
     "output_type": "execute_result"
    }
   ],
   "source": [
    "pokemon.get('Charmeleon','Not found')"
   ]
  },
  {
   "cell_type": "code",
   "execution_count": 21,
   "id": "16f093c9-c492-4f11-a162-142d5b601598",
   "metadata": {},
   "outputs": [
    {
     "data": {
      "text/plain": [
       "'fire'"
      ]
     },
     "execution_count": 21,
     "metadata": {},
     "output_type": "execute_result"
    }
   ],
   "source": [
    "pokemon['Charmeleon']"
   ]
  },
  {
   "cell_type": "code",
   "execution_count": 22,
   "id": "d4bcc15b-27c0-4c3d-8abd-7a7d75998af9",
   "metadata": {},
   "outputs": [
    {
     "data": {
      "text/plain": [
       "'fire'"
      ]
     },
     "execution_count": 22,
     "metadata": {},
     "output_type": "execute_result"
    }
   ],
   "source": [
    "pokemon['Charmeleon']"
   ]
  },
  {
   "cell_type": "code",
   "execution_count": 23,
   "id": "1745c402-d8a0-4a33-bb02-cd2b7a27a7e0",
   "metadata": {},
   "outputs": [
    {
     "data": {
      "text/plain": [
       "name\n",
       "Prinplup      water\n",
       "Empoleon      water\n",
       "Feraligatr    water\n",
       "Poliwag       water\n",
       "Name: type, dtype: object"
      ]
     },
     "execution_count": 23,
     "metadata": {},
     "output_type": "execute_result"
    }
   ],
   "source": [
    "pokemon[-5:-1]"
   ]
  },
  {
   "cell_type": "code",
   "execution_count": 24,
   "id": "282e3e60-d532-4293-b572-e1257d4cc7e8",
   "metadata": {},
   "outputs": [
    {
     "data": {
      "text/plain": [
       "name\n",
       "Azumarill     water\n",
       "Marill        water\n",
       "Primarina     water\n",
       "Brionne       water\n",
       "Slowbro       water\n",
       "Popplio       water\n",
       "Poliwhirl     water\n",
       "Poliwrath     water\n",
       "Wailord       water\n",
       "Lanturn       water\n",
       "Chinchou      water\n",
       "Wailmer       water\n",
       "Piplup        water\n",
       "Tentacool     water\n",
       "Tentacruel    water\n",
       "Prinplup      water\n",
       "Empoleon      water\n",
       "Feraligatr    water\n",
       "Poliwag       water\n",
       "Kyogre        water\n",
       "Name: type, dtype: object"
      ]
     },
     "execution_count": 24,
     "metadata": {},
     "output_type": "execute_result"
    }
   ],
   "source": [
    "pokemon.tail(20)"
   ]
  },
  {
   "cell_type": "code",
   "execution_count": 25,
   "id": "806f5b0d-60da-41f1-9115-f681afdac92e",
   "metadata": {},
   "outputs": [
    {
     "data": {
      "text/plain": [
       "'steel'"
      ]
     },
     "execution_count": 25,
     "metadata": {},
     "output_type": "execute_result"
    }
   ],
   "source": [
    "pokemon['Magearna']"
   ]
  },
  {
   "cell_type": "code",
   "execution_count": 26,
   "id": "d1f3c418-dea9-4f9d-86ee-8d1e871dd830",
   "metadata": {},
   "outputs": [],
   "source": [
    "pokemon['Magearna']='steal'"
   ]
  },
  {
   "cell_type": "code",
   "execution_count": 27,
   "id": "90aa6e71-9397-48e2-886a-a8eef1dc4523",
   "metadata": {},
   "outputs": [
    {
     "data": {
      "text/plain": [
       "'steal'"
      ]
     },
     "execution_count": 27,
     "metadata": {},
     "output_type": "execute_result"
    }
   ],
   "source": [
    "pokemon['Magearna']"
   ]
  },
  {
   "cell_type": "code",
   "execution_count": 28,
   "id": "03e27c39-ea57-49fd-b26a-95e8069f1c50",
   "metadata": {},
   "outputs": [
    {
     "data": {
      "text/plain": [
       "name\n",
       "Kricketot       bug\n",
       "Masquerain      bug\n",
       "Grubbin         bug\n",
       "Charjabug       bug\n",
       "Vikavolt        bug\n",
       "              ...  \n",
       "Prinplup      water\n",
       "Empoleon      water\n",
       "Feraligatr    water\n",
       "Poliwag       water\n",
       "Kyogre        water\n",
       "Name: type, Length: 801, dtype: object"
      ]
     },
     "execution_count": 28,
     "metadata": {},
     "output_type": "execute_result"
    }
   ],
   "source": [
    "pokemon"
   ]
  },
  {
   "cell_type": "code",
   "execution_count": 29,
   "id": "0ca90f25-eb2d-497b-9149-6f36db2af36d",
   "metadata": {},
   "outputs": [
    {
     "data": {
      "text/plain": [
       "type\n",
       "water       114\n",
       "normal      105\n",
       "grass        78\n",
       "bug          72\n",
       "psychic      53\n",
       "fire         52\n",
       "rock         45\n",
       "electric     39\n",
       "ground       32\n",
       "poison       32\n",
       "dark         29\n",
       "fighting     28\n",
       "dragon       27\n",
       "ghost        27\n",
       "ice          23\n",
       "steel        23\n",
       "fairy        18\n",
       "flying        3\n",
       "steal         1\n",
       "Name: count, dtype: int64"
      ]
     },
     "execution_count": 29,
     "metadata": {},
     "output_type": "execute_result"
    }
   ],
   "source": [
    "pokemon.value_counts()"
   ]
  },
  {
   "cell_type": "code",
   "execution_count": 30,
   "id": "740ea8f7-5d12-4391-9315-0ff6e29b1d27",
   "metadata": {},
   "outputs": [
    {
     "data": {
      "text/plain": [
       "type\n",
       "bug          72\n",
       "dark         29\n",
       "dragon       27\n",
       "electric     39\n",
       "fairy        18\n",
       "fighting     28\n",
       "fire         52\n",
       "flying        3\n",
       "ghost        27\n",
       "grass        78\n",
       "ground       32\n",
       "ice          23\n",
       "normal      105\n",
       "poison       32\n",
       "psychic      53\n",
       "rock         45\n",
       "steel        23\n",
       "steal         1\n",
       "water       114\n",
       "Name: count, dtype: int64"
      ]
     },
     "execution_count": 30,
     "metadata": {},
     "output_type": "execute_result"
    }
   ],
   "source": [
    "pokemon.value_counts(sort=False)"
   ]
  },
  {
   "cell_type": "code",
   "execution_count": 31,
   "id": "a05e6c2e-b29e-4a40-b3a1-28c306207601",
   "metadata": {},
   "outputs": [
    {
     "data": {
      "text/plain": [
       "type\n",
       "bug          8.988764\n",
       "dark         3.620474\n",
       "dragon       3.370787\n",
       "electric     4.868914\n",
       "fairy        2.247191\n",
       "fighting     3.495630\n",
       "fire         6.491885\n",
       "flying       0.374532\n",
       "ghost        3.370787\n",
       "grass        9.737828\n",
       "ground       3.995006\n",
       "ice          2.871411\n",
       "normal      13.108614\n",
       "poison       3.995006\n",
       "psychic      6.616729\n",
       "rock         5.617978\n",
       "steel        2.871411\n",
       "steal        0.124844\n",
       "water       14.232210\n",
       "Name: proportion, dtype: float64"
      ]
     },
     "execution_count": 31,
     "metadata": {},
     "output_type": "execute_result"
    }
   ],
   "source": [
    "pokemon.value_counts(sort=False,normalize=True)*100"
   ]
  },
  {
   "cell_type": "code",
   "execution_count": 32,
   "id": "cceb0f47-926f-4fe8-bd71-446e9094f10c",
   "metadata": {},
   "outputs": [
    {
     "data": {
      "text/plain": [
       "name\n",
       "Kricketot     3\n",
       "Masquerain    3\n",
       "Grubbin       3\n",
       "Charjabug     3\n",
       "Vikavolt      3\n",
       "             ..\n",
       "Prinplup      5\n",
       "Empoleon      5\n",
       "Feraligatr    5\n",
       "Poliwag       5\n",
       "Kyogre        5\n",
       "Name: type, Length: 801, dtype: int64"
      ]
     },
     "execution_count": 32,
     "metadata": {},
     "output_type": "execute_result"
    }
   ],
   "source": [
    "pokemon.apply(len)"
   ]
  },
  {
   "cell_type": "code",
   "execution_count": 33,
   "id": "2253260e-902a-420e-9cdf-0e8d2b2273d4",
   "metadata": {},
   "outputs": [],
   "source": [
    "def type_pokemon(dp):\n",
    "    if dp=='grass':\n",
    "        return 'calm'\n",
    "    elif dp=='fire': \n",
    "        return 'agressive'\n",
    "    elif dp=='water':    \n",
    "        return 'charming'\n",
    "    elif dp=='bug':\n",
    "        return 'error'\n",
    "    else:\n",
    "        return 'shocked'"
   ]
  },
  {
   "cell_type": "code",
   "execution_count": 34,
   "id": "73d3408f-02dd-47fe-bfb7-c761aba12e51",
   "metadata": {},
   "outputs": [
    {
     "data": {
      "text/plain": [
       "name\n",
       "Kricketot     error\n",
       "Masquerain    error\n",
       "Grubbin       error\n",
       "Charjabug     error\n",
       "Vikavolt      error\n",
       "Escavalier    error\n",
       "Joltik        error\n",
       "Galvantula    error\n",
       "Venomoth      error\n",
       "Venonat       error\n",
       "Parasect      error\n",
       "Paras         error\n",
       "Cutiefly      error\n",
       "Swadloon      error\n",
       "Nincada       error\n",
       "Ninjask       error\n",
       "Surskit       error\n",
       "Karrablast    error\n",
       "Yanma         error\n",
       "Yanmega       error\n",
       "Venipede      error\n",
       "Whirlipede    error\n",
       "Scolipede     error\n",
       "Sewaddle      error\n",
       "Heracross     error\n",
       "Shuckle       error\n",
       "Scizor        error\n",
       "Shedinja      error\n",
       "Forretress    error\n",
       "Dwebble       error\n",
       "Crustle       error\n",
       "Wurmple       error\n",
       "Silcoon       error\n",
       "Beautifly     error\n",
       "Cascoon       error\n",
       "Dustox        error\n",
       "Pineco        error\n",
       "Vivillon      error\n",
       "Ribombee      error\n",
       "Combee        error\n",
       "Durant        error\n",
       "Pheromosa     error\n",
       "Buzzwole      error\n",
       "Caterpie      error\n",
       "Metapod       error\n",
       "Butterfree    error\n",
       "Weedle        error\n",
       "Kakuna        error\n",
       "Beedrill      error\n",
       "Vespiquen     error\n",
       "Volcarona     error\n",
       "Accelgor      error\n",
       "Shelmet       error\n",
       "Genesect      error\n",
       "Kricketune    error\n",
       "Larvesta      error\n",
       "Ledyba        error\n",
       "Spewpa        error\n",
       "Mothim        error\n",
       "Wormadam      error\n",
       "Name: type, dtype: object"
      ]
     },
     "execution_count": 34,
     "metadata": {},
     "output_type": "execute_result"
    }
   ],
   "source": [
    "pokemon.apply(type_pokemon).head(60)"
   ]
  },
  {
   "cell_type": "code",
   "execution_count": null,
   "id": "e5267186-f45b-4ce9-928e-46561d4397af",
   "metadata": {},
   "outputs": [],
   "source": []
  }
 ],
 "metadata": {
  "kernelspec": {
   "display_name": "Python 3 (ipykernel)",
   "language": "python",
   "name": "python3"
  },
  "language_info": {
   "codemirror_mode": {
    "name": "ipython",
    "version": 3
   },
   "file_extension": ".py",
   "mimetype": "text/x-python",
   "name": "python",
   "nbconvert_exporter": "python",
   "pygments_lexer": "ipython3",
   "version": "3.13.1"
  }
 },
 "nbformat": 4,
 "nbformat_minor": 5
}
